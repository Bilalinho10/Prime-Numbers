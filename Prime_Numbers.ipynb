{
  "nbformat": 4,
  "nbformat_minor": 0,
  "metadata": {
    "colab": {
      "name": "Prime Numbers.ipynb",
      "provenance": [],
      "collapsed_sections": []
    },
    "kernelspec": {
      "name": "python3",
      "display_name": "Python 3"
    },
    "language_info": {
      "name": "python"
    }
  },
  "cells": [
    {
      "cell_type": "code",
      "execution_count": null,
      "metadata": {
        "colab": {
          "base_uri": "https://localhost:8080/"
        },
        "id": "ImmGZ7SCymPq",
        "outputId": "f9cc1db6-2552-4969-a5e1-1434ed2c0925"
      },
      "outputs": [
        {
          "output_type": "stream",
          "name": "stdout",
          "text": [
            "Please enter a limit number : 6\n",
            "[2, 3, 5]\n"
          ]
        }
      ],
      "source": [
        "limit = int(input(\"Please enter a limit number : \"))\n",
        "prime = []\n",
        "primeBool = True\n",
        "for i in range(2, limit+1) :\n",
        "    primeBool = True\n",
        "    for j in range(2, i) :\n",
        "        if i % j == 0 :\n",
        "            primeBool = False\n",
        "            break\n",
        "    if primeBool == True :\n",
        "        prime.append(i)\n",
        "print(prime)\n"
      ]
    },
    {
      "cell_type": "code",
      "source": [
        ""
      ],
      "metadata": {
        "id": "nhPANk_5yqqY"
      },
      "execution_count": null,
      "outputs": []
    }
  ]
}